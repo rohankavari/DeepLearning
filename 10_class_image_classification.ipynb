{
  "nbformat": 4,
  "nbformat_minor": 0,
  "metadata": {
    "colab": {
      "name": "10 class image classification.ipynb",
      "provenance": [],
      "collapsed_sections": [],
      "mount_file_id": "1cyrJzg79aw6NfpLuWQ6tEZ6fLXX9CDTq",
      "authorship_tag": "ABX9TyPC2BOgE9UOo/xbMhqbfDBY",
      "include_colab_link": true
    },
    "kernelspec": {
      "name": "python3",
      "display_name": "Python 3"
    },
    "language_info": {
      "name": "python"
    },
    "accelerator": "GPU"
  },
  "cells": [
    {
      "cell_type": "markdown",
      "metadata": {
        "id": "view-in-github",
        "colab_type": "text"
      },
      "source": [
        "<a href=\"https://colab.research.google.com/github/rohankavari/DeepLearning/blob/main/10_class_image_classification.ipynb\" target=\"_parent\"><img src=\"https://colab.research.google.com/assets/colab-badge.svg\" alt=\"Open In Colab\"/></a>"
      ]
    },
    {
      "cell_type": "code",
      "metadata": {
        "id": "3gc43cOlrHUq"
      },
      "source": [
        "import tensorflow as tf\n",
        "from tensorflow.keras import datasets, layers, models\n",
        "import matplotlib.pyplot as plt\n",
        "import numpy as np"
      ],
      "execution_count": 1,
      "outputs": []
    },
    {
      "cell_type": "code",
      "metadata": {
        "colab": {
          "base_uri": "https://localhost:8080/"
        },
        "id": "gdUdzv2w17bu",
        "outputId": "0c65bd4d-c5fb-4d81-d330-d5db97d348aa"
      },
      "source": [
        "(X_train, y_train), (X_test,y_test) = datasets.cifar10.load_data()\n",
        "X_train.shape"
      ],
      "execution_count": 2,
      "outputs": [
        {
          "output_type": "stream",
          "text": [
            "Downloading data from https://www.cs.toronto.edu/~kriz/cifar-10-python.tar.gz\n",
            "170500096/170498071 [==============================] - 4s 0us/step\n",
            "170508288/170498071 [==============================] - 4s 0us/step\n"
          ],
          "name": "stdout"
        },
        {
          "output_type": "execute_result",
          "data": {
            "text/plain": [
              "(50000, 32, 32, 3)"
            ]
          },
          "metadata": {},
          "execution_count": 2
        }
      ]
    },
    {
      "cell_type": "code",
      "metadata": {
        "colab": {
          "base_uri": "https://localhost:8080/",
          "height": 284
        },
        "id": "VP5eImNP2BsV",
        "outputId": "ca23c450-b852-400e-960b-97892e36a8b5"
      },
      "source": [
        "plt.imshow(X_train[0])"
      ],
      "execution_count": 3,
      "outputs": [
        {
          "output_type": "execute_result",
          "data": {
            "text/plain": [
              "<matplotlib.image.AxesImage at 0x7f9f258539d0>"
            ]
          },
          "metadata": {},
          "execution_count": 3
        },
        {
          "output_type": "display_data",
          "data": {
            "image/png": "[encoded data removed]",
            "text/plain": [
              "<Figure size 432x288 with 1 Axes>"
            ]
          },
          "metadata": {
            "needs_background": "light"
          }
        }
      ]
    },
    {
      "cell_type": "code",
      "metadata": {
        "id": "TiHql9GY2Yxz"
      },
      "source": [
        "y_train = y_train.reshape(-1,)"
      ],
      "execution_count": 4,
      "outputs": []
    },
    {
      "cell_type": "code",
      "metadata": {
        "id": "zCBnKsm82ZV9"
      },
      "source": [
        "y_test = y_test.reshape(-1,)"
      ],
      "execution_count": 5,
      "outputs": []
    },
    {
      "cell_type": "code",
      "metadata": {
        "id": "5zeAyNVb2iem"
      },
      "source": [
        "X_train = X_train / 255.0\n",
        "X_test = X_test / 255.0"
      ],
      "execution_count": 6,
      "outputs": []
    },
    {
      "cell_type": "code",
      "metadata": {
        "colab": {
          "base_uri": "https://localhost:8080/"
        },
        "id": "Fw7XK-Hx2_l_",
        "outputId": "c9b71559-20f4-4429-bdb7-5d312925385a"
      },
      "source": [
        "ann = models.Sequential([\n",
        "        layers.Flatten(input_shape=(32,32,3)),\n",
        "        layers.Dense(3000, activation='relu'),\n",
        "        layers.Dense(1000, activation='relu'),\n",
        "        layers.Dense(10, activation='softmax')    \n",
        "    ])\n",
        "\n",
        "ann.compile(optimizer='SGD',\n",
        "              loss='sparse_categorical_crossentropy',\n",
        "              metrics=['accuracy'])\n",
        "\n",
        "ann.fit(X_train, y_train, epochs=100)"
      ],
      "execution_count": 9,
      "outputs": [
        {
          "output_type": "stream",
          "text": [
            "Epoch 1/100\n",
            "1563/1563 [==============================] - 5s 3ms/step - loss: 1.8137 - accuracy: 0.3535\n",
            "Epoch 2/100\n",
            "1563/1563 [==============================] - 5s 3ms/step - loss: 1.6214 - accuracy: 0.4295\n",
            "Epoch 3/100\n",
            "1563/1563 [==============================] - 5s 3ms/step - loss: 1.5415 - accuracy: 0.4563\n",
            "Epoch 4/100\n",
            "1563/1563 [==============================] - 5s 3ms/step - loss: 1.4811 - accuracy: 0.4778\n",
            "Epoch 5/100\n",
            "1563/1563 [==============================] - 5s 3ms/step - loss: 1.4316 - accuracy: 0.4960\n",
            "Epoch 6/100\n",
            "1563/1563 [==============================] - 5s 3ms/step - loss: 1.3868 - accuracy: 0.5131\n",
            "Epoch 7/100\n",
            "1563/1563 [==============================] - 5s 3ms/step - loss: 1.3520 - accuracy: 0.5224\n",
            "Epoch 8/100\n",
            "1563/1563 [==============================] - 5s 3ms/step - loss: 1.3166 - accuracy: 0.5389\n",
            "Epoch 9/100\n",
            "1563/1563 [==============================] - 5s 3ms/step - loss: 1.2808 - accuracy: 0.5509\n",
            "Epoch 10/100\n",
            "1563/1563 [==============================] - 5s 3ms/step - loss: 1.2520 - accuracy: 0.5597\n",
            "Epoch 11/100\n",
            "1563/1563 [==============================] - 5s 3ms/step - loss: 1.2230 - accuracy: 0.5725\n",
            "Epoch 12/100\n",
            "1563/1563 [==============================] - 5s 3ms/step - loss: 1.1937 - accuracy: 0.5816\n",
            "Epoch 13/100\n",
            "1563/1563 [==============================] - 5s 3ms/step - loss: 1.1661 - accuracy: 0.5933\n",
            "Epoch 14/100\n",
            "1563/1563 [==============================] - 5s 3ms/step - loss: 1.1376 - accuracy: 0.6012\n",
            "Epoch 15/100\n",
            "1563/1563 [==============================] - 5s 3ms/step - loss: 1.1128 - accuracy: 0.6134\n",
            "Epoch 16/100\n",
            "1563/1563 [==============================] - 5s 3ms/step - loss: 1.0864 - accuracy: 0.6201\n",
            "Epoch 17/100\n",
            "1563/1563 [==============================] - 5s 3ms/step - loss: 1.0601 - accuracy: 0.6282\n",
            "Epoch 18/100\n",
            "1563/1563 [==============================] - 5s 3ms/step - loss: 1.0335 - accuracy: 0.6407\n",
            "Epoch 19/100\n",
            "1563/1563 [==============================] - 5s 3ms/step - loss: 1.0087 - accuracy: 0.6493\n",
            "Epoch 20/100\n",
            "1563/1563 [==============================] - 5s 3ms/step - loss: 0.9833 - accuracy: 0.6579\n",
            "Epoch 21/100\n",
            "1563/1563 [==============================] - 5s 3ms/step - loss: 0.9577 - accuracy: 0.6688\n",
            "Epoch 22/100\n",
            "1563/1563 [==============================] - 5s 3ms/step - loss: 0.9318 - accuracy: 0.6799\n",
            "Epoch 23/100\n",
            "1563/1563 [==============================] - 5s 3ms/step - loss: 0.9046 - accuracy: 0.6879\n",
            "Epoch 24/100\n",
            "1563/1563 [==============================] - 5s 3ms/step - loss: 0.8803 - accuracy: 0.6975\n",
            "Epoch 25/100\n",
            "1563/1563 [==============================] - 5s 3ms/step - loss: 0.8575 - accuracy: 0.7039\n",
            "Epoch 26/100\n",
            "1563/1563 [==============================] - 5s 3ms/step - loss: 0.8307 - accuracy: 0.7131\n",
            "Epoch 27/100\n",
            "1563/1563 [==============================] - 5s 3ms/step - loss: 0.8061 - accuracy: 0.7238\n",
            "Epoch 28/100\n",
            "1563/1563 [==============================] - 5s 3ms/step - loss: 0.7793 - accuracy: 0.7328\n",
            "Epoch 29/100\n",
            "1563/1563 [==============================] - 5s 3ms/step - loss: 0.7553 - accuracy: 0.7420\n",
            "Epoch 30/100\n",
            "1563/1563 [==============================] - 5s 3ms/step - loss: 0.7292 - accuracy: 0.7511\n",
            "Epoch 31/100\n",
            "1563/1563 [==============================] - 5s 3ms/step - loss: 0.7077 - accuracy: 0.7587\n",
            "Epoch 32/100\n",
            "1563/1563 [==============================] - 5s 3ms/step - loss: 0.6824 - accuracy: 0.7694\n",
            "Epoch 33/100\n",
            "1563/1563 [==============================] - 5s 3ms/step - loss: 0.6623 - accuracy: 0.7779\n",
            "Epoch 34/100\n",
            "1563/1563 [==============================] - 5s 3ms/step - loss: 0.6313 - accuracy: 0.7876\n",
            "Epoch 35/100\n",
            "1563/1563 [==============================] - 5s 3ms/step - loss: 0.6091 - accuracy: 0.7981\n",
            "Epoch 36/100\n",
            "1563/1563 [==============================] - 5s 3ms/step - loss: 0.5861 - accuracy: 0.8057\n",
            "Epoch 37/100\n",
            "1563/1563 [==============================] - 5s 3ms/step - loss: 0.5612 - accuracy: 0.8129\n",
            "Epoch 38/100\n",
            "1563/1563 [==============================] - 5s 3ms/step - loss: 0.5371 - accuracy: 0.8221\n",
            "Epoch 39/100\n",
            "1563/1563 [==============================] - 5s 3ms/step - loss: 0.5163 - accuracy: 0.8304\n",
            "Epoch 40/100\n",
            "1563/1563 [==============================] - 5s 3ms/step - loss: 0.4956 - accuracy: 0.8363\n",
            "Epoch 41/100\n",
            "1563/1563 [==============================] - 5s 3ms/step - loss: 0.4701 - accuracy: 0.8469\n",
            "Epoch 42/100\n",
            "1563/1563 [==============================] - 5s 3ms/step - loss: 0.4508 - accuracy: 0.8539\n",
            "Epoch 43/100\n",
            "1563/1563 [==============================] - 5s 3ms/step - loss: 0.4332 - accuracy: 0.8602\n",
            "Epoch 44/100\n",
            "1563/1563 [==============================] - 5s 3ms/step - loss: 0.4075 - accuracy: 0.8694\n",
            "Epoch 45/100\n",
            "1563/1563 [==============================] - 5s 3ms/step - loss: 0.3890 - accuracy: 0.8771\n",
            "Epoch 46/100\n",
            "1563/1563 [==============================] - 5s 3ms/step - loss: 0.3701 - accuracy: 0.8839\n",
            "Epoch 47/100\n",
            "1563/1563 [==============================] - 5s 3ms/step - loss: 0.3470 - accuracy: 0.8924\n",
            "Epoch 48/100\n",
            "1563/1563 [==============================] - 5s 3ms/step - loss: 0.3318 - accuracy: 0.8980\n",
            "Epoch 49/100\n",
            "1563/1563 [==============================] - 5s 3ms/step - loss: 0.3111 - accuracy: 0.9078\n",
            "Epoch 50/100\n",
            "1563/1563 [==============================] - 5s 3ms/step - loss: 0.2962 - accuracy: 0.9100\n",
            "Epoch 51/100\n",
            "1563/1563 [==============================] - 5s 3ms/step - loss: 0.2818 - accuracy: 0.9162\n",
            "Epoch 52/100\n",
            "1563/1563 [==============================] - 5s 3ms/step - loss: 0.2643 - accuracy: 0.9232\n",
            "Epoch 53/100\n",
            "1563/1563 [==============================] - 5s 3ms/step - loss: 0.2481 - accuracy: 0.9287\n",
            "Epoch 54/100\n",
            "1563/1563 [==============================] - 5s 3ms/step - loss: 0.2351 - accuracy: 0.9337\n",
            "Epoch 55/100\n",
            "1563/1563 [==============================] - 5s 3ms/step - loss: 0.2209 - accuracy: 0.9388\n",
            "Epoch 56/100\n",
            "1563/1563 [==============================] - 5s 3ms/step - loss: 0.2061 - accuracy: 0.9423\n",
            "Epoch 57/100\n",
            "1563/1563 [==============================] - 5s 3ms/step - loss: 0.1934 - accuracy: 0.9468\n",
            "Epoch 58/100\n",
            "1563/1563 [==============================] - 5s 3ms/step - loss: 0.1762 - accuracy: 0.9538\n",
            "Epoch 59/100\n",
            "1563/1563 [==============================] - 5s 3ms/step - loss: 0.1708 - accuracy: 0.9560\n",
            "Epoch 60/100\n",
            "1563/1563 [==============================] - 5s 3ms/step - loss: 0.1563 - accuracy: 0.9601\n",
            "Epoch 61/100\n",
            "1563/1563 [==============================] - 5s 3ms/step - loss: 0.1478 - accuracy: 0.9627\n",
            "Epoch 62/100\n",
            "1563/1563 [==============================] - 5s 3ms/step - loss: 0.1391 - accuracy: 0.9651\n",
            "Epoch 63/100\n",
            "1563/1563 [==============================] - 5s 3ms/step - loss: 0.1274 - accuracy: 0.9694\n",
            "Epoch 64/100\n",
            "1563/1563 [==============================] - 5s 3ms/step - loss: 0.1197 - accuracy: 0.9719\n",
            "Epoch 65/100\n",
            "1563/1563 [==============================] - 5s 3ms/step - loss: 0.1131 - accuracy: 0.9743\n",
            "Epoch 66/100\n",
            "1563/1563 [==============================] - 5s 3ms/step - loss: 0.1027 - accuracy: 0.9780\n",
            "Epoch 67/100\n",
            "1563/1563 [==============================] - 5s 3ms/step - loss: 0.0957 - accuracy: 0.9796\n",
            "Epoch 68/100\n",
            "1563/1563 [==============================] - 5s 3ms/step - loss: 0.0871 - accuracy: 0.9818\n",
            "Epoch 69/100\n",
            "1563/1563 [==============================] - 5s 3ms/step - loss: 0.0822 - accuracy: 0.9842\n",
            "Epoch 70/100\n",
            "1563/1563 [==============================] - 5s 3ms/step - loss: 0.0754 - accuracy: 0.9855\n",
            "Epoch 71/100\n",
            "1563/1563 [==============================] - 5s 3ms/step - loss: 0.0734 - accuracy: 0.9859\n",
            "Epoch 72/100\n",
            "1563/1563 [==============================] - 5s 3ms/step - loss: 0.0691 - accuracy: 0.9872\n",
            "Epoch 73/100\n",
            "1563/1563 [==============================] - 5s 3ms/step - loss: 0.0613 - accuracy: 0.9898\n",
            "Epoch 74/100\n",
            "1563/1563 [==============================] - 5s 3ms/step - loss: 0.0566 - accuracy: 0.9903\n",
            "Epoch 75/100\n",
            "1563/1563 [==============================] - 5s 3ms/step - loss: 0.0499 - accuracy: 0.9922\n",
            "Epoch 76/100\n",
            "1563/1563 [==============================] - 5s 3ms/step - loss: 0.0528 - accuracy: 0.9911\n",
            "Epoch 77/100\n",
            "1563/1563 [==============================] - 5s 3ms/step - loss: 0.0422 - accuracy: 0.9946\n",
            "Epoch 78/100\n",
            "1563/1563 [==============================] - 5s 3ms/step - loss: 0.0389 - accuracy: 0.9947\n",
            "Epoch 79/100\n",
            "1563/1563 [==============================] - 5s 3ms/step - loss: 0.0372 - accuracy: 0.9952\n",
            "Epoch 80/100\n",
            "1563/1563 [==============================] - 5s 3ms/step - loss: 0.0363 - accuracy: 0.9955\n",
            "Epoch 81/100\n",
            "1563/1563 [==============================] - 5s 3ms/step - loss: 0.0315 - accuracy: 0.9964\n",
            "Epoch 82/100\n",
            "1563/1563 [==============================] - 5s 3ms/step - loss: 0.0290 - accuracy: 0.9968\n",
            "Epoch 83/100\n",
            "1563/1563 [==============================] - 5s 3ms/step - loss: 0.0292 - accuracy: 0.9967\n",
            "Epoch 84/100\n",
            "1563/1563 [==============================] - 5s 3ms/step - loss: 0.0244 - accuracy: 0.9978\n",
            "Epoch 85/100\n",
            "1563/1563 [==============================] - 5s 3ms/step - loss: 0.0237 - accuracy: 0.9979\n",
            "Epoch 86/100\n",
            "1563/1563 [==============================] - 5s 3ms/step - loss: 0.0221 - accuracy: 0.9983\n",
            "Epoch 87/100\n",
            "1563/1563 [==============================] - 5s 3ms/step - loss: 0.0219 - accuracy: 0.9980\n",
            "Epoch 88/100\n",
            "1563/1563 [==============================] - 5s 3ms/step - loss: 0.0465 - accuracy: 0.9906\n",
            "Epoch 89/100\n",
            "1563/1563 [==============================] - 5s 3ms/step - loss: 0.0320 - accuracy: 0.9959\n",
            "Epoch 90/100\n",
            "1563/1563 [==============================] - 5s 3ms/step - loss: 0.0189 - accuracy: 0.9986\n",
            "Epoch 91/100\n",
            "1563/1563 [==============================] - 5s 3ms/step - loss: 0.0171 - accuracy: 0.9990\n",
            "Epoch 92/100\n",
            "1563/1563 [==============================] - 5s 3ms/step - loss: 0.0158 - accuracy: 0.9991\n",
            "Epoch 93/100\n",
            "1563/1563 [==============================] - 5s 3ms/step - loss: 0.0156 - accuracy: 0.9989\n",
            "Epoch 94/100\n",
            "1563/1563 [==============================] - 5s 3ms/step - loss: 0.0139 - accuracy: 0.9994\n",
            "Epoch 95/100\n",
            "1563/1563 [==============================] - 5s 3ms/step - loss: 0.0127 - accuracy: 0.9996\n",
            "Epoch 96/100\n",
            "1563/1563 [==============================] - 5s 3ms/step - loss: 0.0122 - accuracy: 0.9996\n",
            "Epoch 97/100\n",
            "1563/1563 [==============================] - 5s 3ms/step - loss: 0.0123 - accuracy: 0.9994\n",
            "Epoch 98/100\n",
            "1563/1563 [==============================] - 5s 3ms/step - loss: 0.0117 - accuracy: 0.9994\n",
            "Epoch 99/100\n",
            "1563/1563 [==============================] - 5s 3ms/step - loss: 0.0106 - accuracy: 0.9997\n",
            "Epoch 100/100\n",
            "1563/1563 [==============================] - 5s 3ms/step - loss: 0.0104 - accuracy: 0.9997\n"
          ],
          "name": "stdout"
        },
        {
          "output_type": "execute_result",
          "data": {
            "text/plain": [
              "<keras.callbacks.History at 0x7f9ed80d1c10>"
            ]
          },
          "metadata": {},
          "execution_count": 9
        }
      ]
    },
    {
      "cell_type": "code",
      "metadata": {
        "colab": {
          "base_uri": "https://localhost:8080/"
        },
        "id": "BUo9GuG53UpF",
        "outputId": "524f55a3-b670-4918-f773-96cafb363966"
      },
      "source": [
        "from sklearn.metrics import confusion_matrix , classification_report\n",
        "import numpy as np\n",
        "y_pred = ann.predict(X_test)\n",
        "y_pred_classes = [np.argmax(element) for element in y_pred]\n",
        "\n",
        "print(\"Classification Report: \\n\", classification_report(y_test, y_pred_classes))"
      ],
      "execution_count": 10,
      "outputs": [
        {
          "output_type": "stream",
          "text": [
            "Classification Report: \n",
            "               precision    recall  f1-score   support\n",
            "\n",
            "           0       0.66      0.65      0.66      1000\n",
            "           1       0.70      0.69      0.69      1000\n",
            "           2       0.48      0.50      0.49      1000\n",
            "           3       0.42      0.42      0.42      1000\n",
            "           4       0.52      0.51      0.52      1000\n",
            "           5       0.48      0.51      0.49      1000\n",
            "           6       0.65      0.62      0.64      1000\n",
            "           7       0.67      0.62      0.65      1000\n",
            "           8       0.66      0.74      0.70      1000\n",
            "           9       0.64      0.61      0.63      1000\n",
            "\n",
            "    accuracy                           0.59     10000\n",
            "   macro avg       0.59      0.59      0.59     10000\n",
            "weighted avg       0.59      0.59      0.59     10000\n",
            "\n"
          ],
          "name": "stdout"
        }
      ]
    },
    {
      "cell_type": "code",
      "metadata": {
        "colab": {
          "base_uri": "https://localhost:8080/"
        },
        "id": "7JTRkLnp70uh",
        "outputId": "0252a530-61d0-4e05-d4f4-78369ca6d79f"
      },
      "source": [
        "\n",
        "cnn = models.Sequential([\n",
        "    layers.Conv2D(filters=32, kernel_size=(3, 3), activation='relu', input_shape=(32, 32, 3)),\n",
        "    layers.MaxPooling2D((2, 2)),\n",
        "    \n",
        "    layers.Conv2D(filters=64, kernel_size=(3, 3), activation='relu'),\n",
        "    layers.MaxPooling2D((2, 2)),\n",
        "    \n",
        "    layers.Flatten(),\n",
        "    layers.Dense(64, activation='relu'),\n",
        "    layers.Dense(10, activation='softmax')\n",
        "])\n",
        "cnn.compile(optimizer='adam',\n",
        "              loss='sparse_categorical_crossentropy',\n",
        "              metrics=['accuracy'])\n",
        "cnn.fit(X_train, y_train, epochs=50,validation_data=(X_test,y_test))\n"
      ],
      "execution_count": 16,
      "outputs": [
        {
          "output_type": "stream",
          "text": [
            "Epoch 1/50\n",
            "1563/1563 [==============================] - 6s 4ms/step - loss: 1.4565 - accuracy: 0.4766 - val_loss: 1.2424 - val_accuracy: 0.5574\n",
            "Epoch 2/50\n",
            "1563/1563 [==============================] - 6s 4ms/step - loss: 1.1132 - accuracy: 0.6119 - val_loss: 1.0585 - val_accuracy: 0.6270\n",
            "Epoch 3/50\n",
            "1563/1563 [==============================] - 6s 4ms/step - loss: 0.9838 - accuracy: 0.6594 - val_loss: 0.9896 - val_accuracy: 0.6553\n",
            "Epoch 4/50\n",
            "1563/1563 [==============================] - 6s 4ms/step - loss: 0.8966 - accuracy: 0.6880 - val_loss: 0.9986 - val_accuracy: 0.6583\n",
            "Epoch 5/50\n",
            "1563/1563 [==============================] - 6s 4ms/step - loss: 0.8326 - accuracy: 0.7089 - val_loss: 0.9123 - val_accuracy: 0.6877\n",
            "Epoch 6/50\n",
            "1563/1563 [==============================] - 6s 4ms/step - loss: 0.7761 - accuracy: 0.7317 - val_loss: 0.9201 - val_accuracy: 0.6872\n",
            "Epoch 7/50\n",
            "1563/1563 [==============================] - 6s 4ms/step - loss: 0.7297 - accuracy: 0.7464 - val_loss: 0.9514 - val_accuracy: 0.6784\n",
            "Epoch 8/50\n",
            "1563/1563 [==============================] - 6s 4ms/step - loss: 0.6879 - accuracy: 0.7613 - val_loss: 0.9000 - val_accuracy: 0.6958\n",
            "Epoch 9/50\n",
            "1563/1563 [==============================] - 6s 4ms/step - loss: 0.6470 - accuracy: 0.7753 - val_loss: 0.9374 - val_accuracy: 0.6960\n",
            "Epoch 10/50\n",
            "1563/1563 [==============================] - 6s 4ms/step - loss: 0.6067 - accuracy: 0.7893 - val_loss: 0.9380 - val_accuracy: 0.6882\n",
            "Epoch 11/50\n",
            "1563/1563 [==============================] - 6s 4ms/step - loss: 0.5805 - accuracy: 0.7982 - val_loss: 0.9924 - val_accuracy: 0.6829\n",
            "Epoch 12/50\n",
            "1563/1563 [==============================] - 6s 4ms/step - loss: 0.5442 - accuracy: 0.8089 - val_loss: 1.0226 - val_accuracy: 0.6844\n",
            "Epoch 13/50\n",
            "1563/1563 [==============================] - 6s 4ms/step - loss: 0.5194 - accuracy: 0.8189 - val_loss: 1.0104 - val_accuracy: 0.6948\n",
            "Epoch 14/50\n",
            "1563/1563 [==============================] - 6s 4ms/step - loss: 0.4917 - accuracy: 0.8266 - val_loss: 1.0441 - val_accuracy: 0.6840\n",
            "Epoch 15/50\n",
            "1563/1563 [==============================] - 6s 4ms/step - loss: 0.4683 - accuracy: 0.8357 - val_loss: 1.0434 - val_accuracy: 0.6953\n",
            "Epoch 16/50\n",
            "1563/1563 [==============================] - 6s 4ms/step - loss: 0.4416 - accuracy: 0.8425 - val_loss: 1.0528 - val_accuracy: 0.6922\n",
            "Epoch 17/50\n",
            "1563/1563 [==============================] - 6s 4ms/step - loss: 0.4209 - accuracy: 0.8485 - val_loss: 1.0918 - val_accuracy: 0.6868\n",
            "Epoch 18/50\n",
            "1563/1563 [==============================] - 6s 4ms/step - loss: 0.3936 - accuracy: 0.8587 - val_loss: 1.1531 - val_accuracy: 0.6778\n",
            "Epoch 19/50\n",
            "1563/1563 [==============================] - 7s 4ms/step - loss: 0.3736 - accuracy: 0.8668 - val_loss: 1.2063 - val_accuracy: 0.6825\n",
            "Epoch 20/50\n",
            "1563/1563 [==============================] - 6s 4ms/step - loss: 0.3585 - accuracy: 0.8725 - val_loss: 1.2105 - val_accuracy: 0.6834\n",
            "Epoch 21/50\n",
            "1563/1563 [==============================] - 6s 4ms/step - loss: 0.3347 - accuracy: 0.8804 - val_loss: 1.3482 - val_accuracy: 0.6710\n",
            "Epoch 22/50\n",
            "1563/1563 [==============================] - 6s 4ms/step - loss: 0.3169 - accuracy: 0.8857 - val_loss: 1.3577 - val_accuracy: 0.6802\n",
            "Epoch 23/50\n",
            "1563/1563 [==============================] - 6s 4ms/step - loss: 0.3071 - accuracy: 0.8897 - val_loss: 1.4061 - val_accuracy: 0.6723\n",
            "Epoch 24/50\n",
            "1563/1563 [==============================] - 6s 4ms/step - loss: 0.2866 - accuracy: 0.8965 - val_loss: 1.4956 - val_accuracy: 0.6708\n",
            "Epoch 25/50\n",
            "1563/1563 [==============================] - 6s 4ms/step - loss: 0.2724 - accuracy: 0.9024 - val_loss: 1.4972 - val_accuracy: 0.6710\n",
            "Epoch 26/50\n",
            "1563/1563 [==============================] - 6s 4ms/step - loss: 0.2613 - accuracy: 0.9064 - val_loss: 1.5612 - val_accuracy: 0.6691\n",
            "Epoch 27/50\n",
            "1563/1563 [==============================] - 6s 4ms/step - loss: 0.2479 - accuracy: 0.9101 - val_loss: 1.6648 - val_accuracy: 0.6703\n",
            "Epoch 28/50\n",
            "1563/1563 [==============================] - 6s 4ms/step - loss: 0.2337 - accuracy: 0.9147 - val_loss: 1.6666 - val_accuracy: 0.6732\n",
            "Epoch 29/50\n",
            "1563/1563 [==============================] - 7s 4ms/step - loss: 0.2280 - accuracy: 0.9168 - val_loss: 1.7349 - val_accuracy: 0.6710\n",
            "Epoch 30/50\n",
            "1563/1563 [==============================] - 6s 4ms/step - loss: 0.2197 - accuracy: 0.9209 - val_loss: 1.8019 - val_accuracy: 0.6640\n",
            "Epoch 31/50\n",
            "1563/1563 [==============================] - 6s 4ms/step - loss: 0.2034 - accuracy: 0.9261 - val_loss: 1.9719 - val_accuracy: 0.6617\n",
            "Epoch 32/50\n",
            "1563/1563 [==============================] - 6s 4ms/step - loss: 0.1917 - accuracy: 0.9299 - val_loss: 1.9483 - val_accuracy: 0.6629\n",
            "Epoch 33/50\n",
            "1563/1563 [==============================] - 6s 4ms/step - loss: 0.1931 - accuracy: 0.9291 - val_loss: 2.0449 - val_accuracy: 0.6625\n",
            "Epoch 34/50\n",
            "1563/1563 [==============================] - 6s 4ms/step - loss: 0.1829 - accuracy: 0.9331 - val_loss: 1.9997 - val_accuracy: 0.6678\n",
            "Epoch 35/50\n",
            "1563/1563 [==============================] - 6s 4ms/step - loss: 0.1743 - accuracy: 0.9368 - val_loss: 2.1619 - val_accuracy: 0.6740\n",
            "Epoch 36/50\n",
            "1563/1563 [==============================] - 6s 4ms/step - loss: 0.1741 - accuracy: 0.9367 - val_loss: 2.1924 - val_accuracy: 0.6559\n",
            "Epoch 37/50\n",
            "1563/1563 [==============================] - 6s 4ms/step - loss: 0.1611 - accuracy: 0.9407 - val_loss: 2.2172 - val_accuracy: 0.6655\n",
            "Epoch 38/50\n",
            "1563/1563 [==============================] - 6s 4ms/step - loss: 0.1606 - accuracy: 0.9415 - val_loss: 2.3155 - val_accuracy: 0.6607\n",
            "Epoch 39/50\n",
            "1563/1563 [==============================] - 6s 4ms/step - loss: 0.1490 - accuracy: 0.9459 - val_loss: 2.3180 - val_accuracy: 0.6602\n",
            "Epoch 40/50\n",
            "1563/1563 [==============================] - 6s 4ms/step - loss: 0.1499 - accuracy: 0.9467 - val_loss: 2.3814 - val_accuracy: 0.6578\n",
            "Epoch 41/50\n",
            "1563/1563 [==============================] - 6s 4ms/step - loss: 0.1378 - accuracy: 0.9490 - val_loss: 2.4708 - val_accuracy: 0.6493\n",
            "Epoch 42/50\n",
            "1563/1563 [==============================] - 6s 4ms/step - loss: 0.1459 - accuracy: 0.9465 - val_loss: 2.4874 - val_accuracy: 0.6608\n",
            "Epoch 43/50\n",
            "1563/1563 [==============================] - 6s 4ms/step - loss: 0.1379 - accuracy: 0.9498 - val_loss: 2.5109 - val_accuracy: 0.6595\n",
            "Epoch 44/50\n",
            "1563/1563 [==============================] - 6s 4ms/step - loss: 0.1321 - accuracy: 0.9521 - val_loss: 2.7248 - val_accuracy: 0.6494\n",
            "Epoch 45/50\n",
            "1563/1563 [==============================] - 6s 4ms/step - loss: 0.1314 - accuracy: 0.9525 - val_loss: 2.6675 - val_accuracy: 0.6584\n",
            "Epoch 46/50\n",
            "1563/1563 [==============================] - 6s 4ms/step - loss: 0.1256 - accuracy: 0.9539 - val_loss: 2.7496 - val_accuracy: 0.6591\n",
            "Epoch 47/50\n",
            "1563/1563 [==============================] - 6s 4ms/step - loss: 0.1289 - accuracy: 0.9543 - val_loss: 2.7993 - val_accuracy: 0.6553\n",
            "Epoch 48/50\n",
            "1563/1563 [==============================] - 6s 4ms/step - loss: 0.1231 - accuracy: 0.9565 - val_loss: 2.8155 - val_accuracy: 0.6574\n",
            "Epoch 49/50\n",
            "1563/1563 [==============================] - 6s 4ms/step - loss: 0.1167 - accuracy: 0.9582 - val_loss: 2.8778 - val_accuracy: 0.6493\n",
            "Epoch 50/50\n",
            "1563/1563 [==============================] - 6s 4ms/step - loss: 0.1122 - accuracy: 0.9598 - val_loss: 2.9717 - val_accuracy: 0.6577\n"
          ],
          "name": "stdout"
        },
        {
          "output_type": "execute_result",
          "data": {
            "text/plain": [
              "<keras.callbacks.History at 0x7f9e75274a50>"
            ]
          },
          "metadata": {},
          "execution_count": 16
        }
      ]
    },
    {
      "cell_type": "code",
      "metadata": {
        "colab": {
          "base_uri": "https://localhost:8080/"
        },
        "id": "RwR4fvDR8vZg",
        "outputId": "a02259c5-01d3-459d-f0b3-f7a05ff9311b"
      },
      "source": [
        "y_pred = cnn.predict(X_test)\n",
        "y_pred_classes = [np.argmax(element) for element in y_pred]\n",
        "\n",
        "print(\"Classification Report: \\n\", classification_report(y_test, y_pred_classes))"
      ],
      "execution_count": 17,
      "outputs": [
        {
          "output_type": "stream",
          "text": [
            "Classification Report: \n",
            "               precision    recall  f1-score   support\n",
            "\n",
            "           0       0.68      0.69      0.68      1000\n",
            "           1       0.74      0.81      0.77      1000\n",
            "           2       0.53      0.57      0.55      1000\n",
            "           3       0.46      0.41      0.44      1000\n",
            "           4       0.61      0.56      0.58      1000\n",
            "           5       0.57      0.56      0.57      1000\n",
            "           6       0.73      0.76      0.74      1000\n",
            "           7       0.72      0.69      0.70      1000\n",
            "           8       0.77      0.78      0.77      1000\n",
            "           9       0.74      0.75      0.75      1000\n",
            "\n",
            "    accuracy                           0.66     10000\n",
            "   macro avg       0.65      0.66      0.66     10000\n",
            "weighted avg       0.65      0.66      0.66     10000\n",
            "\n"
          ],
          "name": "stdout"
        }
      ]
    }
  ]
}