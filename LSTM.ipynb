{
  "nbformat": 4,
  "nbformat_minor": 0,
  "metadata": {
    "colab": {
      "name": "LSTM.ipynb",
      "provenance": [],
      "collapsed_sections": [],
      "mount_file_id": "1wxKKt95rojJilNx0K4rD8IV0hEiL3CNg",
      "authorship_tag": "ABX9TyNQ4tzVC0GElfS6ZLdaeuKc",
      "include_colab_link": true
    },
    "kernelspec": {
      "name": "python3",
      "display_name": "Python 3"
    },
    "language_info": {
      "name": "python"
    },
    "accelerator": "GPU"
  },
  "cells": [
    {
      "cell_type": "markdown",
      "metadata": {
        "id": "view-in-github",
        "colab_type": "text"
      },
      "source": [
        "<a href=\"https://colab.research.google.com/github/rohankavari/DeepLearning/blob/main/LSTM.ipynb\" target=\"_parent\"><img src=\"https://colab.research.google.com/assets/colab-badge.svg\" alt=\"Open In Colab\"/></a>"
      ]
    },
    {
      "cell_type": "code",
      "source": [
        "%cd /content/drive/MyDrive/dataset/LSTM"
      ],
      "metadata": {
        "colab": {
          "base_uri": "https://localhost:8080/"
        },
        "id": "G0h0mbQ1084o",
        "outputId": "69201a4b-b71a-4809-a4e4-80281951b615"
      },
      "execution_count": null,
      "outputs": [
        {
          "output_type": "stream",
          "name": "stdout",
          "text": [
            "/content/drive/MyDrive/dataset/LSTM\n"
          ]
        }
      ]
    },
    {
      "cell_type": "code",
      "source": [
        "!pwd"
      ],
      "metadata": {
        "colab": {
          "base_uri": "https://localhost:8080/"
        },
        "id": "r9pUOvt71CDQ",
        "outputId": "a5250c1b-ec84-482c-98db-a0df0a49bcb8"
      },
      "execution_count": null,
      "outputs": [
        {
          "output_type": "stream",
          "name": "stdout",
          "text": [
            "/content/drive/MyDrive/dataset/LSTM\n"
          ]
        }
      ]
    },
    {
      "cell_type": "code",
      "source": [
        "!wget https://www.gutenberg.org/cache/epub/1497/pg1497.txt"
      ],
      "metadata": {
        "colab": {
          "base_uri": "https://localhost:8080/"
        },
        "id": "JlB14jZ62EhM",
        "outputId": "733cfe48-20c5-4e0d-c223-257e68ee7a73"
      },
      "execution_count": null,
      "outputs": [
        {
          "output_type": "stream",
          "name": "stdout",
          "text": [
            "--2022-01-12 05:52:44--  https://www.gutenberg.org/cache/epub/1497/pg1497.txt\n",
            "Resolving www.gutenberg.org (www.gutenberg.org)... 152.19.134.47, 2610:28:3090:3000:0:bad:cafe:47\n",
            "Connecting to www.gutenberg.org (www.gutenberg.org)|152.19.134.47|:443... connected.\n",
            "HTTP request sent, awaiting response... 200 OK\n",
            "Length: 1243940 (1.2M) [text/plain]\n",
            "Saving to: ‘pg1497.txt’\n",
            "\n",
            "pg1497.txt          100%[===================>]   1.19M  --.-KB/s    in 0.1s    \n",
            "\n",
            "2022-01-12 05:52:44 (11.5 MB/s) - ‘pg1497.txt’ saved [1243940/1243940]\n",
            "\n"
          ]
        }
      ]
    },
    {
      "cell_type": "markdown",
      "source": [
        "Loading, cleaning the text\n",
        "\n",
        "We transformed the data such that each seq has 51 words, and the next seq leaves the first word and takes the next 51 words.\n",
        "\n",
        "The 50 words are input, 1 is output."
      ],
      "metadata": {
        "id": "tstxxmbs4e6C"
      }
    },
    {
      "cell_type": "code",
      "source": [
        "# load doc into memory\n",
        "def load_doc(filename):\n",
        "\t# open the file as read only\n",
        "\tfile = open(filename, 'r')\n",
        "\t# read all text\n",
        "\ttext = file.read()\n",
        "\t# close the file\n",
        "\tfile.close()\n",
        "\treturn text"
      ],
      "metadata": {
        "id": "Sqbfp4-998ud"
      },
      "execution_count": null,
      "outputs": []
    },
    {
      "cell_type": "code",
      "source": [
        "\n",
        "# load document\n",
        "in_filename = 'republic_clean.txt'\n",
        "doc = load_doc(in_filename)\n",
        "print(doc[:200])\n",
        "import string\n",
        "\n",
        "# turn a doc into clean tokens\n",
        "def clean_doc(doc):\n",
        "\t# replace '--' with a space ' '\n",
        "\tdoc = doc.replace('--', ' ')\n",
        "\t# split into tokens by white space\n",
        "\ttokens = doc.split()\n",
        "\t# remove punctuation from each token\n",
        "\ttable = str.maketrans('', '', string.punctuation)\n",
        "\ttokens = [w.translate(table) for w in tokens]\n",
        "\t# remove remaining tokens that are not alphabetic\n",
        "\ttokens = [word for word in tokens if word.isalpha()]\n",
        "\t# make lower case\n",
        "\ttokens = [word.lower() for word in tokens]\n",
        "\treturn tokens\n",
        "# clean document\n",
        "tokens = clean_doc(doc)\n",
        "print(tokens[:200])\n",
        "print('Total Tokens: %d' % len(tokens))\n",
        "print('Unique Tokens: %d' % len(set(tokens)))\n",
        "# organize into sequences of tokens\n",
        "length = 50 + 1\n",
        "sequences = list()\n",
        "for i in range(length, len(tokens)):\n",
        "\t# select sequence of tokens\n",
        "\tseq = tokens[i-length:i]\n",
        "\t# convert into a line\n",
        "\tline = ' '.join(seq)\n",
        "\t# store\n",
        "\tsequences.append(line)\n",
        "print('Total Sequences: %d' % len(sequences))\n",
        "# save tokens to file, one dialog per line\n",
        "def save_doc(lines, filename):\n",
        "\tdata = '\\n'.join(lines)\n",
        "\tfile = open(filename, 'w')\n",
        "\tfile.write(data)\n",
        "\tfile.close()\n",
        "# save sequences to file\n",
        "out_filename = 'republic_sequences.txt'\n",
        "save_doc(sequences, out_filename)"
      ],
      "metadata": {
        "id": "w-7oottFy34C"
      },
      "execution_count": null,
      "outputs": []
    },
    {
      "cell_type": "code",
      "source": [
        "%cd /content/drive/MyDrive/dataset/LSTM"
      ],
      "metadata": {
        "colab": {
          "base_uri": "https://localhost:8080/"
        },
        "id": "zPZ0ZDDM-8_7",
        "outputId": "32f6e702-9733-49a7-a41d-f7440cebb6af"
      },
      "execution_count": 3,
      "outputs": [
        {
          "output_type": "stream",
          "name": "stdout",
          "text": [
            "/content/drive/MyDrive/dataset/LSTM\n"
          ]
        }
      ]
    },
    {
      "cell_type": "code",
      "source": [
        "# load doc into memory\n",
        "def load_doc(filename):\n",
        "\t# open the file as read only\n",
        "\tfile = open(filename, 'r')\n",
        "\t# read all text\n",
        "\ttext = file.read()\n",
        "\t# close the file\n",
        "\tfile.close()\n",
        "\treturn text"
      ],
      "metadata": {
        "id": "DZ7TpDOr-_WL"
      },
      "execution_count": null,
      "outputs": []
    },
    {
      "cell_type": "code",
      "source": [
        "from numpy import array\n",
        "from pickle import dump\n",
        "from keras.preprocessing.text import Tokenizer\n",
        "from tensorflow.keras.utils import to_categorical\n",
        "from keras.models import Sequential\n",
        "from keras.layers import Dense\n",
        "from keras.layers import LSTM\n",
        "from keras.layers import Embedding"
      ],
      "metadata": {
        "id": "-HBKRl1J5c4q"
      },
      "execution_count": null,
      "outputs": []
    },
    {
      "cell_type": "code",
      "source": [
        "# load\n",
        "in_filename = 'republic_sequences.txt'\n",
        "doc = load_doc(in_filename)\n",
        "lines = doc.split('\\n')\n",
        "lines=lines[:100000]"
      ],
      "metadata": {
        "id": "uqiOS2ka4Xxj"
      },
      "execution_count": null,
      "outputs": []
    },
    {
      "cell_type": "code",
      "source": [
        "len(lines)"
      ],
      "metadata": {
        "colab": {
          "base_uri": "https://localhost:8080/"
        },
        "id": "ZCh3MlmSA76M",
        "outputId": "f214a86e-171d-43a6-a989-73dd76d5edb7"
      },
      "execution_count": null,
      "outputs": [
        {
          "output_type": "execute_result",
          "data": {
            "text/plain": [
              "100000"
            ]
          },
          "metadata": {},
          "execution_count": 5
        }
      ]
    },
    {
      "cell_type": "code",
      "source": [
        "# integer encode sequences of words\n",
        "tokenizer = Tokenizer()\n",
        "tokenizer.fit_on_texts(lines)"
      ],
      "metadata": {
        "id": "ueFjOZeAAPMt"
      },
      "execution_count": null,
      "outputs": []
    },
    {
      "cell_type": "code",
      "source": [
        "\n",
        "sequences = tokenizer.texts_to_sequences(lines)\n",
        "# vocabulary size\n",
        "vocab_size = len(tokenizer.word_index) + 1\n",
        "print(vocab_size)"
      ],
      "metadata": {
        "colab": {
          "base_uri": "https://localhost:8080/"
        },
        "id": "VpPZ9wND5yWS",
        "outputId": "fe3d5f76-0e51-488f-e674-d2e697b0613f"
      },
      "execution_count": null,
      "outputs": [
        {
          "output_type": "stream",
          "name": "stdout",
          "text": [
            "7736\n"
          ]
        }
      ]
    },
    {
      "cell_type": "code",
      "source": [
        "# separate into input and output\n",
        "sequences = array(sequences)\n",
        "X, y = sequences[:,:-1], sequences[:,-1]\n",
        "y = to_categorical(y, num_classes=vocab_size)\n",
        "seq_length = X.shape[1]\n"
      ],
      "metadata": {
        "id": "QMSiDBmm6Ecz"
      },
      "execution_count": null,
      "outputs": []
    },
    {
      "cell_type": "code",
      "source": [
        "y.shape"
      ],
      "metadata": {
        "colab": {
          "base_uri": "https://localhost:8080/"
        },
        "id": "6T7hXxf16Hkx",
        "outputId": "36bfe3aa-2263-40a2-f84b-447c635c8162"
      },
      "execution_count": null,
      "outputs": [
        {
          "output_type": "execute_result",
          "data": {
            "text/plain": [
              "(100000, 7736)"
            ]
          },
          "metadata": {},
          "execution_count": 9
        }
      ]
    },
    {
      "cell_type": "code",
      "source": [
        "\n",
        "# define model\n",
        "model = Sequential()\n",
        "model.add(Embedding(vocab_size, 50, input_length=seq_length))\n",
        "model.add(LSTM(100, return_sequences=True))\n",
        "model.add(LSTM(100))\n",
        "model.add(Dense(100, activation='relu'))\n",
        "model.add(Dense(vocab_size, activation='softmax'))\n",
        "print(model.summary())\n",
        "\n",
        "# compile model\n",
        "model.compile(loss='categorical_crossentropy', optimizer='adam', metrics=['accuracy'])\n",
        "\n"
      ],
      "metadata": {
        "colab": {
          "base_uri": "https://localhost:8080/"
        },
        "id": "gCb4BHf65Wv6",
        "outputId": "3aec25bd-ef0f-4995-8a1d-9e97c4f1d426"
      },
      "execution_count": null,
      "outputs": [
        {
          "output_type": "stream",
          "name": "stdout",
          "text": [
            "Model: \"sequential\"\n",
            "_________________________________________________________________\n",
            " Layer (type)                Output Shape              Param #   \n",
            "=================================================================\n",
            " embedding (Embedding)       (None, 50, 50)            386800    \n",
            "                                                                 \n",
            " lstm (LSTM)                 (None, 50, 100)           60400     \n",
            "                                                                 \n",
            " lstm_1 (LSTM)               (None, 100)               80400     \n",
            "                                                                 \n",
            " dense (Dense)               (None, 100)               10100     \n",
            "                                                                 \n",
            " dense_1 (Dense)             (None, 7736)              781336    \n",
            "                                                                 \n",
            "=================================================================\n",
            "Total params: 1,319,036\n",
            "Trainable params: 1,319,036\n",
            "Non-trainable params: 0\n",
            "_________________________________________________________________\n",
            "None\n"
          ]
        }
      ]
    },
    {
      "cell_type": "code",
      "source": [
        "from keras.utils.vis_utils import plot_model\n",
        "plot_model(model, to_file='model.png')"
      ],
      "metadata": {
        "colab": {
          "base_uri": "https://localhost:8080/",
          "height": 564
        },
        "id": "4LC_zlf286T4",
        "outputId": "d75f8295-f1da-4d43-b62d-dfc48623273f"
      },
      "execution_count": null,
      "outputs": [
        {
          "output_type": "execute_result",
          "data": {
            "image/png": "[encoded data removed]",
            "text/plain": [
              "<IPython.core.display.Image object>"
            ]
          },
          "metadata": {},
          "execution_count": 11
        }
      ]
    },
    {
      "cell_type": "markdown",
      "source": [
        "FITTING THE MODEL"
      ],
      "metadata": {
        "id": "nr6mTowt8_RE"
      }
    },
    {
      "cell_type": "code",
      "source": [
        "# fit model\n",
        "model.fit(X, y, batch_size=300, epochs=100)"
      ],
      "metadata": {
        "colab": {
          "base_uri": "https://localhost:8080/"
        },
        "id": "HUg9heFm8-pb",
        "outputId": "c435c801-cdb8-4f3b-df74-a99617f2a421"
      },
      "execution_count": null,
      "outputs": [
        {
          "output_type": "stream",
          "name": "stdout",
          "text": [
            "Epoch 1/100\n",
            "334/334 [==============================] - 20s 47ms/step - loss: 6.5001 - accuracy: 0.0785\n",
            "Epoch 2/100\n",
            "334/334 [==============================] - 16s 47ms/step - loss: 6.0320 - accuracy: 0.1111\n",
            "Epoch 3/100\n",
            "334/334 [==============================] - 16s 47ms/step - loss: 5.7860 - accuracy: 0.1276\n",
            "Epoch 4/100\n",
            "334/334 [==============================] - 16s 47ms/step - loss: 5.6410 - accuracy: 0.1400\n",
            "Epoch 5/100\n",
            "334/334 [==============================] - 16s 47ms/step - loss: 5.5233 - accuracy: 0.1535\n",
            "Epoch 6/100\n",
            "334/334 [==============================] - 16s 47ms/step - loss: 5.4312 - accuracy: 0.1615\n",
            "Epoch 7/100\n",
            "334/334 [==============================] - 16s 47ms/step - loss: 5.3495 - accuracy: 0.1665\n",
            "Epoch 8/100\n",
            "334/334 [==============================] - 16s 47ms/step - loss: 5.2693 - accuracy: 0.1717\n",
            "Epoch 9/100\n",
            "334/334 [==============================] - 16s 47ms/step - loss: 5.1958 - accuracy: 0.1768\n",
            "Epoch 10/100\n",
            "334/334 [==============================] - 16s 47ms/step - loss: 5.1283 - accuracy: 0.1803\n",
            "Epoch 11/100\n",
            "334/334 [==============================] - 16s 47ms/step - loss: 5.0639 - accuracy: 0.1838\n",
            "Epoch 12/100\n",
            "334/334 [==============================] - 16s 47ms/step - loss: 5.0019 - accuracy: 0.1859\n",
            "Epoch 13/100\n",
            "334/334 [==============================] - 16s 47ms/step - loss: 4.9421 - accuracy: 0.1889\n",
            "Epoch 14/100\n",
            "334/334 [==============================] - 16s 47ms/step - loss: 4.8840 - accuracy: 0.1909\n",
            "Epoch 15/100\n",
            "334/334 [==============================] - 16s 47ms/step - loss: 4.8426 - accuracy: 0.1922\n",
            "Epoch 16/100\n",
            "334/334 [==============================] - 16s 47ms/step - loss: 4.8398 - accuracy: 0.1914\n",
            "Epoch 17/100\n",
            "334/334 [==============================] - 16s 47ms/step - loss: 4.7561 - accuracy: 0.1960\n",
            "Epoch 18/100\n",
            "334/334 [==============================] - 16s 47ms/step - loss: 4.6866 - accuracy: 0.1996\n",
            "Epoch 19/100\n",
            "334/334 [==============================] - 16s 47ms/step - loss: 4.6316 - accuracy: 0.2024\n",
            "Epoch 20/100\n",
            "334/334 [==============================] - 16s 47ms/step - loss: 4.5795 - accuracy: 0.2038\n",
            "Epoch 21/100\n",
            "334/334 [==============================] - 16s 47ms/step - loss: 4.5247 - accuracy: 0.2067\n",
            "Epoch 22/100\n",
            "334/334 [==============================] - 16s 47ms/step - loss: 4.4939 - accuracy: 0.2073\n",
            "Epoch 23/100\n",
            "334/334 [==============================] - 16s 47ms/step - loss: 4.4409 - accuracy: 0.2099\n",
            "Epoch 24/100\n",
            "334/334 [==============================] - 16s 48ms/step - loss: 4.3831 - accuracy: 0.2122\n",
            "Epoch 25/100\n",
            "334/334 [==============================] - 16s 49ms/step - loss: 4.3357 - accuracy: 0.2147\n",
            "Epoch 26/100\n",
            "334/334 [==============================] - 16s 49ms/step - loss: 4.2927 - accuracy: 0.2166\n",
            "Epoch 27/100\n",
            "334/334 [==============================] - 16s 49ms/step - loss: 4.2370 - accuracy: 0.2213\n",
            "Epoch 28/100\n",
            "334/334 [==============================] - 16s 49ms/step - loss: 4.1968 - accuracy: 0.2233\n",
            "Epoch 29/100\n",
            "334/334 [==============================] - 16s 48ms/step - loss: 4.1605 - accuracy: 0.2259\n",
            "Epoch 30/100\n",
            "334/334 [==============================] - 16s 48ms/step - loss: 4.1168 - accuracy: 0.2296\n",
            "Epoch 31/100\n",
            "334/334 [==============================] - 16s 48ms/step - loss: 4.1415 - accuracy: 0.2277\n",
            "Epoch 32/100\n",
            "334/334 [==============================] - 16s 48ms/step - loss: 4.0946 - accuracy: 0.2299\n",
            "Epoch 33/100\n",
            "334/334 [==============================] - 16s 48ms/step - loss: 3.9990 - accuracy: 0.2386\n",
            "Epoch 34/100\n",
            "334/334 [==============================] - 16s 49ms/step - loss: 3.9500 - accuracy: 0.2442\n",
            "Epoch 35/100\n",
            "334/334 [==============================] - 17s 50ms/step - loss: 3.9026 - accuracy: 0.2476\n",
            "Epoch 36/100\n",
            "334/334 [==============================] - 17s 50ms/step - loss: 3.8586 - accuracy: 0.2523\n",
            "Epoch 37/100\n",
            "334/334 [==============================] - 17s 50ms/step - loss: 3.8155 - accuracy: 0.2568\n",
            "Epoch 38/100\n",
            "334/334 [==============================] - 17s 49ms/step - loss: 3.7737 - accuracy: 0.2614\n",
            "Epoch 39/100\n",
            "334/334 [==============================] - 16s 49ms/step - loss: 3.7673 - accuracy: 0.2627\n",
            "Epoch 40/100\n",
            "334/334 [==============================] - 16s 49ms/step - loss: 3.7297 - accuracy: 0.2663\n",
            "Epoch 41/100\n",
            "334/334 [==============================] - 16s 49ms/step - loss: 3.6836 - accuracy: 0.2717\n",
            "Epoch 42/100\n",
            "334/334 [==============================] - 16s 49ms/step - loss: 3.6430 - accuracy: 0.2744\n",
            "Epoch 43/100\n",
            "334/334 [==============================] - 16s 49ms/step - loss: 3.6024 - accuracy: 0.2807\n",
            "Epoch 44/100\n",
            "334/334 [==============================] - 16s 49ms/step - loss: 3.5681 - accuracy: 0.2847\n",
            "Epoch 45/100\n",
            "334/334 [==============================] - 16s 49ms/step - loss: 3.5519 - accuracy: 0.2860\n",
            "Epoch 46/100\n",
            "334/334 [==============================] - 16s 49ms/step - loss: 3.5186 - accuracy: 0.2911\n",
            "Epoch 47/100\n",
            "334/334 [==============================] - 16s 49ms/step - loss: 3.4807 - accuracy: 0.2963\n",
            "Epoch 48/100\n",
            "334/334 [==============================] - 16s 49ms/step - loss: 3.4600 - accuracy: 0.2990\n",
            "Epoch 49/100\n",
            "334/334 [==============================] - 16s 49ms/step - loss: 3.4614 - accuracy: 0.3002\n",
            "Epoch 50/100\n",
            "334/334 [==============================] - 16s 49ms/step - loss: 3.5531 - accuracy: 0.2897\n",
            "Epoch 51/100\n",
            "334/334 [==============================] - 16s 49ms/step - loss: 3.4955 - accuracy: 0.2965\n",
            "Epoch 52/100\n",
            "334/334 [==============================] - 16s 49ms/step - loss: 3.4682 - accuracy: 0.2998\n",
            "Epoch 53/100\n",
            "334/334 [==============================] - 16s 49ms/step - loss: 3.6686 - accuracy: 0.2796\n",
            "Epoch 54/100\n",
            "334/334 [==============================] - 17s 49ms/step - loss: 3.6230 - accuracy: 0.2819\n",
            "Epoch 55/100\n",
            "334/334 [==============================] - 16s 49ms/step - loss: 3.5785 - accuracy: 0.2855\n",
            "Epoch 56/100\n",
            "334/334 [==============================] - 16s 49ms/step - loss: 3.5435 - accuracy: 0.2887\n",
            "Epoch 57/100\n",
            "334/334 [==============================] - 16s 49ms/step - loss: 3.5118 - accuracy: 0.2932\n",
            "Epoch 58/100\n",
            "334/334 [==============================] - 16s 49ms/step - loss: 3.4834 - accuracy: 0.2968\n",
            "Epoch 59/100\n",
            "334/334 [==============================] - 16s 49ms/step - loss: 3.4567 - accuracy: 0.2991\n",
            "Epoch 60/100\n",
            "334/334 [==============================] - 16s 49ms/step - loss: 3.4295 - accuracy: 0.3025\n",
            "Epoch 61/100\n",
            "334/334 [==============================] - 16s 49ms/step - loss: 3.4009 - accuracy: 0.3071\n",
            "Epoch 62/100\n",
            "334/334 [==============================] - 16s 49ms/step - loss: 3.3768 - accuracy: 0.3099\n",
            "Epoch 63/100\n",
            "334/334 [==============================] - 16s 49ms/step - loss: 3.3502 - accuracy: 0.3125\n",
            "Epoch 64/100\n",
            "334/334 [==============================] - 16s 49ms/step - loss: 3.3276 - accuracy: 0.3156\n",
            "Epoch 65/100\n",
            "334/334 [==============================] - 16s 49ms/step - loss: 3.3016 - accuracy: 0.3198\n",
            "Epoch 66/100\n",
            "334/334 [==============================] - 16s 49ms/step - loss: 3.2755 - accuracy: 0.3234\n",
            "Epoch 67/100\n",
            "334/334 [==============================] - 16s 49ms/step - loss: 3.2533 - accuracy: 0.3260\n",
            "Epoch 68/100\n",
            "334/334 [==============================] - 16s 49ms/step - loss: 3.2306 - accuracy: 0.3298\n",
            "Epoch 69/100\n",
            "334/334 [==============================] - 16s 49ms/step - loss: 3.2037 - accuracy: 0.3325\n",
            "Epoch 70/100\n",
            "334/334 [==============================] - 16s 49ms/step - loss: 3.1860 - accuracy: 0.3353\n",
            "Epoch 71/100\n",
            "334/334 [==============================] - 16s 49ms/step - loss: 3.1579 - accuracy: 0.3391\n",
            "Epoch 72/100\n",
            "334/334 [==============================] - 16s 49ms/step - loss: 3.1356 - accuracy: 0.3431\n",
            "Epoch 73/100\n",
            "334/334 [==============================] - 16s 49ms/step - loss: 3.1131 - accuracy: 0.3461\n",
            "Epoch 74/100\n",
            "334/334 [==============================] - 17s 49ms/step - loss: 3.0927 - accuracy: 0.3488\n",
            "Epoch 75/100\n",
            "334/334 [==============================] - 16s 49ms/step - loss: 3.0701 - accuracy: 0.3519\n",
            "Epoch 76/100\n",
            "334/334 [==============================] - 17s 50ms/step - loss: 3.0464 - accuracy: 0.3549\n",
            "Epoch 77/100\n",
            "334/334 [==============================] - 17s 50ms/step - loss: 3.0299 - accuracy: 0.3581\n",
            "Epoch 78/100\n",
            "334/334 [==============================] - 17s 50ms/step - loss: 3.0064 - accuracy: 0.3611\n",
            "Epoch 79/100\n",
            "334/334 [==============================] - 17s 50ms/step - loss: 2.9853 - accuracy: 0.3645\n",
            "Epoch 80/100\n",
            "334/334 [==============================] - 17s 51ms/step - loss: 2.9651 - accuracy: 0.3668\n",
            "Epoch 81/100\n",
            "334/334 [==============================] - 17s 50ms/step - loss: 2.9446 - accuracy: 0.3710\n",
            "Epoch 82/100\n",
            "334/334 [==============================] - 17s 51ms/step - loss: 2.9241 - accuracy: 0.3746\n",
            "Epoch 83/100\n",
            "334/334 [==============================] - 17s 50ms/step - loss: 2.9026 - accuracy: 0.3769\n",
            "Epoch 84/100\n",
            "334/334 [==============================] - 16s 49ms/step - loss: 2.8817 - accuracy: 0.3816\n",
            "Epoch 85/100\n",
            "334/334 [==============================] - 16s 49ms/step - loss: 2.8674 - accuracy: 0.3832\n",
            "Epoch 86/100\n",
            "334/334 [==============================] - 16s 48ms/step - loss: 2.8446 - accuracy: 0.3868\n",
            "Epoch 87/100\n",
            "334/334 [==============================] - 16s 49ms/step - loss: 2.8256 - accuracy: 0.3887\n",
            "Epoch 88/100\n",
            "334/334 [==============================] - 17s 49ms/step - loss: 2.8064 - accuracy: 0.3919\n",
            "Epoch 89/100\n",
            "334/334 [==============================] - 16s 49ms/step - loss: 2.7851 - accuracy: 0.3966\n",
            "Epoch 90/100\n",
            "334/334 [==============================] - 17s 50ms/step - loss: 2.7686 - accuracy: 0.3990\n",
            "Epoch 91/100\n",
            "334/334 [==============================] - 17s 50ms/step - loss: 2.7493 - accuracy: 0.4022\n",
            "Epoch 92/100\n",
            "334/334 [==============================] - 17s 50ms/step - loss: 2.7319 - accuracy: 0.4044\n",
            "Epoch 93/100\n",
            "334/334 [==============================] - 17s 50ms/step - loss: 2.7130 - accuracy: 0.4082\n",
            "Epoch 94/100\n",
            "334/334 [==============================] - 17s 50ms/step - loss: 2.6957 - accuracy: 0.4109\n",
            "Epoch 95/100\n",
            "334/334 [==============================] - 17s 50ms/step - loss: 2.6785 - accuracy: 0.4132\n",
            "Epoch 96/100\n",
            "334/334 [==============================] - 17s 50ms/step - loss: 2.6581 - accuracy: 0.4170\n",
            "Epoch 97/100\n",
            "334/334 [==============================] - 17s 50ms/step - loss: 2.6415 - accuracy: 0.4206\n",
            "Epoch 98/100\n",
            "334/334 [==============================] - 17s 50ms/step - loss: 2.6237 - accuracy: 0.4239\n",
            "Epoch 99/100\n",
            "334/334 [==============================] - 17s 50ms/step - loss: 2.6076 - accuracy: 0.4250\n",
            "Epoch 100/100\n",
            "334/334 [==============================] - 17s 51ms/step - loss: 2.5918 - accuracy: 0.4288\n"
          ]
        },
        {
          "output_type": "execute_result",
          "data": {
            "text/plain": [
              "<keras.callbacks.History at 0x7f95e19dd210>"
            ]
          },
          "metadata": {},
          "execution_count": 12
        }
      ]
    },
    {
      "cell_type": "code",
      "source": [
        "# save the model to file\n",
        "model.save('model.h5')\n",
        "# save the tokenizer\n",
        "dump(tokenizer, open('tokenizer.pkl', 'wb'))"
      ],
      "metadata": {
        "id": "kWLtsCmJ-3qs"
      },
      "execution_count": null,
      "outputs": []
    },
    {
      "cell_type": "code",
      "source": [
        "import numpy as np\n"
      ],
      "metadata": {
        "id": "j_lhfbQHglWo"
      },
      "execution_count": 6,
      "outputs": []
    },
    {
      "cell_type": "code",
      "source": [
        "from random import randint\n",
        "from pickle import load\n",
        "from keras.models import load_model\n",
        "from keras.preprocessing.sequence import pad_sequences\n",
        "\n",
        "# load doc into memory\n",
        "def load_doc(filename):\n",
        "\t# open the file as read only\n",
        "\tfile = open(filename, 'r')\n",
        "\t# read all text\n",
        "\ttext = file.read()\n",
        "\t# close the file\n",
        "\tfile.close()\n",
        "\treturn text\n",
        "\n",
        "# generate a sequence from a language model\n",
        "def generate_seq(model, tokenizer, seq_length, seed_text, n_words):\n",
        "\tresult = list()\n",
        "\tin_text = seed_text\n",
        "\t# generate a fixed number of words\n",
        "\tfor _ in range(n_words):\n",
        "\t\t# encode the text as integer\n",
        "\t\tencoded = tokenizer.texts_to_sequences([in_text])[0]\n",
        "\t\t# truncate sequences to a fixed length\n",
        "\t\tencoded = pad_sequences([encoded], maxlen=seq_length, truncating='pre')\n",
        "\t\t# predict probabilities for each word\n",
        "\t\t# yhat = model.predict_classes(encoded, verbose=0)\n",
        "\t\tyhat = np.argmax(model.predict(encoded), axis=-1)\n",
        "\t \n",
        "\t\t# map predicted word index to word\n",
        "\t\tout_word = ''\n",
        "\t\tfor word, index in tokenizer.word_index.items():\n",
        "\t\t\tif index == yhat:\n",
        "\t\t\t\tout_word = word\n",
        "\t\t\t\tbreak\n",
        "\t\t# append to input\n",
        "\t\tin_text += ' ' + out_word\n",
        "\t\tresult.append(out_word)\n",
        "\treturn ' '.join(result)\n",
        "\n",
        "# load cleaned text sequences\n",
        "in_filename = 'republic_sequences.txt'\n",
        "doc = load_doc(in_filename)\n",
        "lines = doc.split('\\n')\n",
        "seq_length = len(lines[0].split()) - 1\n",
        "\n",
        "# load the model\n",
        "model = load_model('model.h5')\n",
        "\n",
        "# load the tokenizer\n",
        "tokenizer = load(open('tokenizer.pkl', 'rb'))\n",
        "\n",
        "# select a seed text\n",
        "seed_text = lines[randint(0,len(lines))]\n",
        "print(seed_text + '\\n')\n",
        "\n",
        "# generate new text\n",
        "generated = generate_seq(model, tokenizer, seq_length, seed_text, 100)\n",
        "print(generated)"
      ],
      "metadata": {
        "colab": {
          "base_uri": "https://localhost:8080/"
        },
        "id": "NbklC0eSMdbS",
        "outputId": "76bf3789-5077-4fc7-8904-f0c813d4f8c8"
      },
      "execution_count": 9,
      "outputs": [
        {
          "output_type": "stream",
          "name": "stdout",
          "text": [
            "aside and veiled her face not liking to stir the question which has now arisen i perfectly remember he said yes my friend i said and i then shrank from hazarding the bold word but now let me dare to the perfect guardian must be a philosopher yes he said let\n",
            "\n",
            "us proceed to the gods and who speaks of the other platonists or the state which is puzzled by the confused intimations of sense and some portions of a middle point judging to a sculptor and is not the first lot believes that there is no longer a brave and the perception of tyranny springs of athens is borrowed from the pilgrimages of the soul and the carpenter and sun the number of the state the second is that in the phaedrus and the stoical instrument of the soul and the number of the soul and the second is the\n"
          ]
        }
      ]
    },
    {
      "cell_type": "markdown",
      "source": [
        "aside and veiled her face not liking to stir the question which has now arisen i perfectly remember he said yes my friend i said and i then shrank from hazarding the bold word but now let me dare to the perfect guardian must be a philosopher yes he said let\n",
        "\n",
        "us proceed to the gods and who speaks of the other platonists or the state which is puzzled by the confused intimations of sense and some portions of a middle point judging to a sculptor and is not the first lot believes that there is no longer a brave and the perception of tyranny springs of athens is borrowed from the pilgrimages of the soul and the carpenter and sun the number of the state the second is that in the phaedrus and the stoical instrument of the soul and the number of the soul and the second is the"
      ],
      "metadata": {
        "id": "sqa2BSerg7ao"
      }
    }
  ]
}